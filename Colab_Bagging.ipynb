{
  "nbformat": 4,
  "nbformat_minor": 0,
  "metadata": {
    "colab": {
      "provenance": []
    },
    "kernelspec": {
      "name": "python3",
      "display_name": "Python 3"
    },
    "language_info": {
      "name": "python"
    },
    "accelerator": "GPU",
    "gpuClass": "standard"
  },
  "cells": [
    {
      "cell_type": "code",
      "source": [
        "pip install ipython"
      ],
      "metadata": {
        "colab": {
          "base_uri": "https://localhost:8080/"
        },
        "id": "12ekbkodsCO9",
        "outputId": "4dc306ce-c999-4824-d801-e42c8d7d6e0b"
      },
      "execution_count": 1,
      "outputs": [
        {
          "output_type": "stream",
          "name": "stdout",
          "text": [
            "Looking in indexes: https://pypi.org/simple, https://us-python.pkg.dev/colab-wheels/public/simple/\n",
            "Requirement already satisfied: ipython in /usr/local/lib/python3.8/dist-packages (7.9.0)\n",
            "Requirement already satisfied: backcall in /usr/local/lib/python3.8/dist-packages (from ipython) (0.2.0)\n",
            "Requirement already satisfied: prompt-toolkit<2.1.0,>=2.0.0 in /usr/local/lib/python3.8/dist-packages (from ipython) (2.0.10)\n",
            "Requirement already satisfied: setuptools>=18.5 in /usr/local/lib/python3.8/dist-packages (from ipython) (57.4.0)\n",
            "Requirement already satisfied: jedi>=0.10 in /usr/local/lib/python3.8/dist-packages (from ipython) (0.18.2)\n",
            "Requirement already satisfied: pickleshare in /usr/local/lib/python3.8/dist-packages (from ipython) (0.7.5)\n",
            "Requirement already satisfied: pexpect in /usr/local/lib/python3.8/dist-packages (from ipython) (4.8.0)\n",
            "Requirement already satisfied: traitlets>=4.2 in /usr/local/lib/python3.8/dist-packages (from ipython) (5.1.1)\n",
            "Requirement already satisfied: pygments in /usr/local/lib/python3.8/dist-packages (from ipython) (2.6.1)\n",
            "Requirement already satisfied: decorator in /usr/local/lib/python3.8/dist-packages (from ipython) (4.4.2)\n",
            "Requirement already satisfied: parso<0.9.0,>=0.8.0 in /usr/local/lib/python3.8/dist-packages (from jedi>=0.10->ipython) (0.8.3)\n",
            "Requirement already satisfied: wcwidth in /usr/local/lib/python3.8/dist-packages (from prompt-toolkit<2.1.0,>=2.0.0->ipython) (0.2.5)\n",
            "Requirement already satisfied: six>=1.9.0 in /usr/local/lib/python3.8/dist-packages (from prompt-toolkit<2.1.0,>=2.0.0->ipython) (1.15.0)\n",
            "Requirement already satisfied: ptyprocess>=0.5 in /usr/local/lib/python3.8/dist-packages (from pexpect->ipython) (0.7.0)\n"
          ]
        }
      ]
    },
    {
      "cell_type": "code",
      "execution_count": 2,
      "metadata": {
        "id": "yQjZj1Dgrj3_"
      },
      "outputs": [],
      "source": [
        "from IPython.core.debugger import set_trace\n",
        "\n",
        "# %load_ext nb_black\n",
        "\n",
        "import pandas as pd\n",
        "import numpy as np\n",
        "from time import time\n",
        "import matplotlib.pyplot as plt\n",
        "\n",
        "plt.style.use(style=\"seaborn\")\n",
        "%matplotlib inline\n",
        "\n"
      ]
    },
    {
      "cell_type": "markdown",
      "source": [
        "#importing the dataset for Bagging"
      ],
      "metadata": {
        "id": "ZYLVccCZ1PPj"
      }
    },
    {
      "cell_type": "code",
      "source": [
        "from sklearn.datasets import make_classification\n",
        "\n",
        "X,y = make_classification(\n",
        "    n_samples = 100000, n_features=20, n_informative=15, n_redundant=5, random_state=0\n",
        ")"
      ],
      "metadata": {
        "id": "DERC7IVHtIps"
      },
      "execution_count": 3,
      "outputs": []
    },
    {
      "cell_type": "code",
      "source": [
        "X.shape"
      ],
      "metadata": {
        "colab": {
          "base_uri": "https://localhost:8080/"
        },
        "id": "obF3aVWcuM2X",
        "outputId": "07ec184f-8126-4640-ef61-f4e1260f13a0"
      },
      "execution_count": 4,
      "outputs": [
        {
          "output_type": "execute_result",
          "data": {
            "text/plain": [
              "(100000, 20)"
            ]
          },
          "metadata": {},
          "execution_count": 4
        }
      ]
    },
    {
      "cell_type": "code",
      "source": [
        "from sklearn.ensemble import BaggingClassifier\n",
        "from sklearn.model_selection import cross_val_score\n",
        "from sklearn.model_selection import RepeatedStratifiedKFold"
      ],
      "metadata": {
        "id": "VFvO7cvpuSMM"
      },
      "execution_count": 5,
      "outputs": []
    },
    {
      "cell_type": "markdown",
      "source": [
        "#Bagging classifier results\n"
      ],
      "metadata": {
        "id": "Zxi-9aqy1IMZ"
      }
    },
    {
      "cell_type": "code",
      "source": [
        "model = BaggingClassifier()\n",
        "\n",
        "start =time()\n",
        "\n",
        "cv = RepeatedStratifiedKFold(n_splits=5, n_repeats=2, random_state=0)\n",
        "score = cross_val_score(model, X, y, scoring=\"accuracy\", cv=cv, n_jobs=-1)\n",
        "\n",
        "print(\n",
        "  f\"Mean Accuracy: {np.mean(score):.3f}\\nStd: {np.std(score):.3f}\\nRun time: {(time() - start):.3f}s\"  \n",
        ")\n"
      ],
      "metadata": {
        "colab": {
          "base_uri": "https://localhost:8080/"
        },
        "id": "fXqmmJ97vA9p",
        "outputId": "4daac737-b6fd-414f-d40c-3edf1437840e"
      },
      "execution_count": 6,
      "outputs": [
        {
          "output_type": "stream",
          "name": "stdout",
          "text": [
            "Mean Accuracy: 0.947\n",
            "Std: 0.002\n",
            "Run time: 130.522s\n"
          ]
        }
      ]
    },
    {
      "cell_type": "markdown",
      "source": [
        "#Effect of Increasing No of Trees"
      ],
      "metadata": {
        "id": "RfqVCrGd1_su"
      }
    },
    {
      "cell_type": "markdown",
      "source": [
        "getting no of trees data from list [10,25,50,100,200,400,800]"
      ],
      "metadata": {
        "id": "TThsLDBQ823A"
      }
    },
    {
      "cell_type": "code",
      "source": [
        "%%time\n",
        "\n",
        "res= {}\n",
        "for i in [10,25,50,100,200,400,800]:\n",
        "  model=BaggingClassifier(n_estimators=i)\n",
        "  \n",
        "  cv=RepeatedStratifiedKFold(n_splits=3, n_repeats=2, random_state=0)\n",
        "  res[f'{i}'] = cross_val_score(model, X, y, scoring=\"accuracy\", cv=cv, n_jobs=-1)"
      ],
      "metadata": {
        "id": "wZVZ0-v1wTnD"
      },
      "execution_count": null,
      "outputs": []
    },
    {
      "cell_type": "code",
      "source": [
        "res = {\n",
        "\n",
        "        \"10\":  ( [0.94465111, 0.94449944, 0.94503945, 0.94837103, 0.94200942, 0.94548945]),\n",
        "\n",
        "        \"25\":  ([0.95557089, 0.95514955, 0.95685957, 0.95899082, 0.9502895, 0.95625956]),\n",
        "\n",
        "        \"50\":  ([0.95830083, 0.95655957, 0.95748957, 0.95932081, 0.95568956, 0.95805958]),\n",
        "\n",
        "        \"100\":  ([0.9600408, 0.95811958, 0.95937959, 0.96178076, 0.95655957, 0.9595596]),\n",
        "       \n",
        "        \"200\":  ([0.9597708, 0.95898959, 0.9603396, 0.96166077, 0.95541955, 0.9603096] ),\n",
        "\n",
        "        \"400\":  ([0.96070079, 0.95880959, 0.95922959, 0.96223076, 0.95652957, 0.96174962]),\n",
        "\n",
        "        \"800\":  ([0.96043079, 0.95937959, 0.9602796, 0.96238075, 0.95556956, 0.96114961] ),\n",
        "\n",
        "}"
      ],
      "metadata": {
        "id": "v_acQyE12WEE"
      },
      "execution_count": 43,
      "outputs": []
    },
    {
      "cell_type": "code",
      "source": [
        "print(res)"
      ],
      "metadata": {
        "colab": {
          "base_uri": "https://localhost:8080/"
        },
        "id": "Z4DBlgCnN0KC",
        "outputId": "55cdcd82-7c9e-4343-9132-ff6e6886ff49"
      },
      "execution_count": 44,
      "outputs": [
        {
          "output_type": "stream",
          "name": "stdout",
          "text": [
            "{'10': [0.94465111, 0.94449944, 0.94503945, 0.94837103, 0.94200942, 0.94548945], '25': [0.95557089, 0.95514955, 0.95685957, 0.95899082, 0.9502895, 0.95625956], '50': [0.95830083, 0.95655957, 0.95748957, 0.95932081, 0.95568956, 0.95805958], '100': [0.9600408, 0.95811958, 0.95937959, 0.96178076, 0.95655957, 0.9595596], '200': [0.9597708, 0.95898959, 0.9603396, 0.96166077, 0.95541955, 0.9603096], '400': [0.96070079, 0.95880959, 0.95922959, 0.96223076, 0.95652957, 0.96174962], '800': [0.96043079, 0.95937959, 0.9602796, 0.96238075, 0.95556956, 0.96114961]}\n"
          ]
        }
      ]
    },
    {
      "cell_type": "code",
      "source": [
        "print(type(res))"
      ],
      "metadata": {
        "colab": {
          "base_uri": "https://localhost:8080/"
        },
        "id": "NUEblIpEN17i",
        "outputId": "58b17418-6ee8-4b0a-bff8-7d39fdadfdc0"
      },
      "execution_count": 38,
      "outputs": [
        {
          "output_type": "stream",
          "name": "stdout",
          "text": [
            "<class 'dict'>\n"
          ]
        }
      ]
    },
    {
      "cell_type": "code",
      "source": [
        "list(res.keys())"
      ],
      "metadata": {
        "colab": {
          "base_uri": "https://localhost:8080/"
        },
        "id": "wAuVOppsN8km",
        "outputId": "fbfef2e8-3ec8-46a9-aa53-eb3e2a5eec39"
      },
      "execution_count": 45,
      "outputs": [
        {
          "output_type": "execute_result",
          "data": {
            "text/plain": [
              "['10', '25', '50', '100', '200', '400', '800']"
            ]
          },
          "metadata": {},
          "execution_count": 45
        }
      ]
    },
    {
      "cell_type": "code",
      "source": [
        "list(res.values())"
      ],
      "metadata": {
        "colab": {
          "base_uri": "https://localhost:8080/"
        },
        "id": "UjiT-_d5PfhE",
        "outputId": "985b47fc-bdff-44fe-904d-262fdc22312b"
      },
      "execution_count": 46,
      "outputs": [
        {
          "output_type": "execute_result",
          "data": {
            "text/plain": [
              "[[0.94465111, 0.94449944, 0.94503945, 0.94837103, 0.94200942, 0.94548945],\n",
              " [0.95557089, 0.95514955, 0.95685957, 0.95899082, 0.9502895, 0.95625956],\n",
              " [0.95830083, 0.95655957, 0.95748957, 0.95932081, 0.95568956, 0.95805958],\n",
              " [0.9600408, 0.95811958, 0.95937959, 0.96178076, 0.95655957, 0.9595596],\n",
              " [0.9597708, 0.95898959, 0.9603396, 0.96166077, 0.95541955, 0.9603096],\n",
              " [0.96070079, 0.95880959, 0.95922959, 0.96223076, 0.95652957, 0.96174962],\n",
              " [0.96043079, 0.95937959, 0.9602796, 0.96238075, 0.95556956, 0.96114961]]"
            ]
          },
          "metadata": {},
          "execution_count": 46
        }
      ]
    },
    {
      "cell_type": "code",
      "source": [
        "plt.figure(1, figsize=(16,8))\n",
        "_ = plt.boxplot(res.values(), labels=res.keys(), showmeans=True)"
      ],
      "metadata": {
        "colab": {
          "base_uri": "https://localhost:8080/",
          "height": 483
        },
        "id": "scF2NbjAOUFK",
        "outputId": "abc00bb4-a06a-4387-a06c-f62f5469c2ce"
      },
      "execution_count": 47,
      "outputs": [
        {
          "output_type": "display_data",
          "data": {
            "text/plain": [
              "<Figure size 1152x576 with 1 Axes>"
            ],
            "image/png": "[encoded data removed]"
          },
          "metadata": {
            "needs_background": "light"
          }
        }
      ]
    },
    {
      "cell_type": "code",
      "source": [
        "%%time\n",
        "\n",
        "sam={}\n",
        "for i in [.1, .25, .5, .75, 1.]:\n",
        "  model= BaggingClassifier(n_estimators=100, max_samples=i)\n",
        "\n",
        "  cv = RepeatedStratifiedKFold(n_splits=3, n_repeats=2, random_state=0)\n",
        "  sam[f'{i*100}%'] = cross_val_score(model, X, y, scoring=\"accuracy\", cv=cv, n_jobs=-1)\n",
        "\n"
      ],
      "metadata": {
        "colab": {
          "base_uri": "https://localhost:8080/"
        },
        "id": "zx8yrgAlO8f8",
        "outputId": "adecd3a3-c896-4341-ae1c-07ee0f69303a"
      },
      "execution_count": 49,
      "outputs": [
        {
          "output_type": "stream",
          "name": "stdout",
          "text": [
            "CPU times: user 3.81 s, sys: 555 ms, total: 4.37 s\n",
            "Wall time: 27min 53s\n"
          ]
        }
      ]
    },
    {
      "cell_type": "code",
      "source": [
        "print(sam)"
      ],
      "metadata": {
        "colab": {
          "base_uri": "https://localhost:8080/"
        },
        "id": "1OKg_XZXVk3E",
        "outputId": "43a6600b-79c4-4a4d-a65e-e7ae5f299ad8"
      },
      "execution_count": 50,
      "outputs": [
        {
          "output_type": "stream",
          "name": "stdout",
          "text": [
            "{'10.0%': array([0.94597108, 0.94887949, 0.94572946, 0.94696106, 0.94395944,\n",
            "       0.94824948]), '25.0%': array([0.95401092, 0.95589956, 0.95529955, 0.9552109 , 0.95343953,\n",
            "       0.95475955]), '50.0%': array([0.95758085, 0.95640956, 0.95898959, 0.95908082, 0.95553956,\n",
            "       0.95814958]), '75.0%': array([0.95962081, 0.95886959, 0.95928959, 0.95968081, 0.95652957,\n",
            "       0.95781958]), '100.0%': array([0.95950081, 0.95715957, 0.96060961, 0.96106078, 0.95592956,\n",
            "       0.96105961])}\n"
          ]
        }
      ]
    },
    {
      "cell_type": "code",
      "source": [
        "plt.figure(1, figsize=(16,8))\n",
        "_ = plt.boxplot(sam.values(), labels=sam.keys(), showmeans=True)"
      ],
      "metadata": {
        "colab": {
          "base_uri": "https://localhost:8080/",
          "height": 483
        },
        "id": "khUD-5A_cWFi",
        "outputId": "1bee0f53-8df4-41d0-95a4-f3954be88db0"
      },
      "execution_count": 53,
      "outputs": [
        {
          "output_type": "display_data",
          "data": {
            "text/plain": [
              "<Figure size 1152x576 with 1 Axes>"
            ],
            "image/png": "[encoded data removed]"
          },
          "metadata": {
            "needs_background": "light"
          }
        }
      ]
    },
    {
      "cell_type": "code",
      "source": [],
      "metadata": {
        "id": "8OyPAuvQcjVL"
      },
      "execution_count": null,
      "outputs": []
    }
  ]
}